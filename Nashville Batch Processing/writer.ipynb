{
 "cells": [
  {
   "cell_type": "markdown",
   "id": "f4f8d222",
   "metadata": {},
   "source": [
    "# Nashville Writer"
   ]
  },
  {
   "cell_type": "markdown",
   "id": "f9bdafd6",
   "metadata": {},
   "source": [
    "Added the imports."
   ]
  },
  {
   "cell_type": "code",
   "execution_count": 4,
   "id": "cd4e273d",
   "metadata": {},
   "outputs": [],
   "source": [
    "import os\n",
    "from azure.storage.blob import BlobServiceClient\n",
    "import pandas as pd\n",
    "from processor import Processor"
   ]
  },
  {
   "cell_type": "markdown",
   "id": "d5b03ccd",
   "metadata": {},
   "source": [
    "Writer class\n",
    "- Writes to the local /output folder.\n",
    "- Writes to Azure Blog Storage."
   ]
  },
  {
   "cell_type": "code",
   "execution_count": 5,
   "id": "efe19036",
   "metadata": {},
   "outputs": [],
   "source": [
    "class Writer:\n",
    "    def __init__(self, connection_string, container_name, local_output_folder):\n",
    "        self.connection_string = connection_string\n",
    "        self.container_name = container_name\n",
    "        self.local_output_folder = local_output_folder\n",
    "\n",
    "        os.makedirs(self.local_output_folder, exist_ok=True)\n",
    "        self.blob_service_client = BlobServiceClient.from_connection_string(self.connection_string)\n",
    "\n",
    "    def write(self, df: pd.DataFrame, filename, output_path):     \n",
    "        os.makedirs(os.path.dirname(output_path), exist_ok=True)\n",
    "        df.to_csv(output_path, index=False)\n",
    "\n",
    "        blob_client = self.blob_service_client.get_blob_client(container=self.container_name, blob=filename)\n",
    "        with open(output_path, \"rb\") as data_file:\n",
    "            blob_client.upload_blob(data_file, overwrite=True)\n",
    "        print(f\"☁️ Uploaded to Azure Blob Storage: {self.container_name}/{filename}\")\n"
   ]
  },
  {
   "cell_type": "code",
   "execution_count": 6,
   "id": "d2326e55",
   "metadata": {},
   "outputs": [
    {
     "name": "stdout",
     "output_type": "stream",
     "text": [
      "☁️ Uploaded to Azure Blob Storage: nashville/processed_nashville_housing.csv\n"
     ]
    }
   ],
   "source": [
    "processor = Processor()\n",
    "processed_data = processor.process().get_processed_data()\n",
    "\n",
    "writer = Writer('DefaultEndpointsProtocol=https;AccountName=uiiauiiau;AccountKey=ZxKBlPoSrGjlXyHwFUQLe1l7Ps74FVGs4j27S2QBCeOtYnGO+be0020Krs37xlOFMaXiGQN23s4++ASt+O0Tpg==;EndpointSuffix=core.windows.net', 'nashville', 'output')\n",
    "writer.write(processed_data, \"processed_nashville_housing.csv\", \"output/processed_nashville_housing.csv\")"
   ]
  }
 ],
 "metadata": {
  "kernelspec": {
   "display_name": "Python 3",
   "language": "python",
   "name": "python3"
  },
  "language_info": {
   "codemirror_mode": {
    "name": "ipython",
    "version": 3
   },
   "file_extension": ".py",
   "mimetype": "text/x-python",
   "name": "python",
   "nbconvert_exporter": "python",
   "pygments_lexer": "ipython3",
   "version": "3.11.4"
  }
 },
 "nbformat": 4,
 "nbformat_minor": 5
}
