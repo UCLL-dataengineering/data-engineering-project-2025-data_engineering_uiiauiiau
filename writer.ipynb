{
 "cells": [
  {
   "cell_type": "code",
   "execution_count": 18,
   "id": "cd4e273d",
   "metadata": {},
   "outputs": [],
   "source": [
    "import os\n",
    "from azure.storage.blob import BlobServiceClient\n",
    "import pandas as pd\n",
    "from processor import Processor"
   ]
  },
  {
   "cell_type": "code",
   "execution_count": 19,
   "id": "efe19036",
   "metadata": {},
   "outputs": [],
   "source": [
    "class Writer:\n",
    "    def __init__(self, connection_string: str = \"DefaultEndpointsProtocol=https;AccountName=uiiauiiau;AccountKey=ZxKBlPoSrGjlXyHwFUQLe1l7Ps74FVGs4j27S2QBCeOtYnGO+be0020Krs37xlOFMaXiGQN23s4++ASt+O0Tpg==;EndpointSuffix=core.windows.net\", \n",
    "                 container_name: str = \"nashville\", local_output_folder: str = \"output\"):\n",
    "        self.connection_string = connection_string\n",
    "        self.container_name = container_name\n",
    "        self.local_output_folder = local_output_folder\n",
    "\n",
    "        os.makedirs(self.local_output_folder, exist_ok=True)\n",
    "        self.blob_service_client = BlobServiceClient.from_connection_string(self.connection_string)\n",
    "        self._ensure_container_exists()\n",
    "\n",
    "    def _ensure_container_exists(self):\n",
    "        container_client = self.blob_service_client.get_container_client(self.container_name)\n",
    "        try:\n",
    "            container_client.get_container_properties()\n",
    "        except:\n",
    "            container_client.create_container()\n",
    "\n",
    "    def write(self, df: pd.DataFrame, filename: str = \"processed_nashville_housing.csv\"):     \n",
    "        output_path = 'output/processed_nashville_housing.csv'\n",
    "        os.makedirs(os.path.dirname(output_path), exist_ok=True)\n",
    "        df.to_csv(output_path, index=False)\n",
    "\n",
    "        blob_client = self.blob_service_client.get_blob_client(container=self.container_name, blob=filename)\n",
    "        with open(\"output\\processed_nashville_housing.csv\", \"rb\") as data_file:\n",
    "            blob_client.upload_blob(data_file, overwrite=True)\n",
    "        print(f\"☁️ Uploaded to Azure Blob Storage: {self.container_name}/{filename}\")\n"
   ]
  },
  {
   "cell_type": "code",
   "execution_count": 20,
   "id": "d2326e55",
   "metadata": {},
   "outputs": [
    {
     "name": "stdout",
     "output_type": "stream",
     "text": [
      "☁️ Uploaded to Azure Blob Storage: nashville/processed_nashville_housing.csv\n"
     ]
    }
   ],
   "source": [
    "processor = Processor()\n",
    "processed_data = processor.process().get_processed_data()\n",
    "\n",
    "writer = Writer()\n",
    "writer.write(processed_data)"
   ]
  }
 ],
 "metadata": {
  "kernelspec": {
   "display_name": "Python 3",
   "language": "python",
   "name": "python3"
  },
  "language_info": {
   "codemirror_mode": {
    "name": "ipython",
    "version": 3
   },
   "file_extension": ".py",
   "mimetype": "text/x-python",
   "name": "python",
   "nbconvert_exporter": "python",
   "pygments_lexer": "ipython3",
   "version": "3.11.4"
  }
 },
 "nbformat": 4,
 "nbformat_minor": 5
}
